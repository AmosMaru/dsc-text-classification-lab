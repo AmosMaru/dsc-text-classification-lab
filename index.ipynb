{
  "cells": [
    {
      "cell_type": "markdown",
      "metadata": {
        "id": "kHBUmepfvnYx"
      },
      "source": [
        "# Text Classification - Lab\n",
        "\n",
        "## Introduction\n",
        "\n",
        "In this lab, we'll use everything we've learned so far to build a model that can classify a text document as one of many possible classes!\n",
        "\n",
        "## Objectives\n",
        "\n",
        "You will be able to:\n",
        "\n",
        "- Perform classification using a text dataset, using sensible preprocessing, tokenization, and feature engineering scheme \n",
        "- Use scikit-learn text vectorizers to fit and transform text data into a format to be used in a ML model \n",
        "\n",
        "\n",
        "\n",
        "# Getting Started\n",
        "\n",
        "For this lab, we'll be working with the classic **_Newsgroups Dataset_**, which is available as a training data set in `sklearn.datasets`. This dataset contains many different articles that fall into 1 of 20 possible classes. Our goal will be to build a classifier that can accurately predict the class of an article based on the features we create from the article itself!\n",
        "\n",
        "Let's get started. Run the cell below to import everything we'll need for this lab. "
      ]
    },
    {
      "cell_type": "code",
      "execution_count": 1,
      "metadata": {
        "id": "4d8UAJF6vnY0"
      },
      "outputs": [],
      "source": [
        "import nltk\n",
        "from nltk.corpus import stopwords\n",
        "import string\n",
        "from nltk import word_tokenize, FreqDist\n",
        "from sklearn.feature_extraction.text import TfidfVectorizer\n",
        "from sklearn.metrics import accuracy_score\n",
        "from sklearn.datasets import fetch_20newsgroups\n",
        "from sklearn.ensemble import RandomForestClassifier\n",
        "from sklearn.naive_bayes import MultinomialNB\n",
        "import pandas as pd\n",
        "import numpy as np\n",
        "np.random.seed(0)"
      ]
    },
    {
      "cell_type": "markdown",
      "metadata": {
        "id": "vNwCl53TvnY2"
      },
      "source": [
        "Now, we need to fetch our dataset. Run the cell below to download all the newsgroups articles and their corresponding labels. If this is the first time working with this dataset, scikit-learn will need to download all of the articles from an external repository -- the cell below may take a little while to run. \n",
        "\n",
        "The actual dataset is quite large. To save us from extremely long runtimes, we'll work with only a subset of the classes. Here is a list of all the possible classes:\n",
        "\n",
        "<img src='classes.png'>\n",
        "\n",
        "For this lab, we'll only work with the following five:\n",
        "\n",
        "* `'alt.atheism'`\n",
        "* `'comp.windows.x'`\n",
        "* `'rec.sport.hockey'`\n",
        "* `'sci.crypt'`\n",
        "* `'talk.politics.guns'`\n",
        "\n",
        "In the cell below:\n",
        "\n",
        "* Create a list called `categories` that contains the five newsgroups classes listed above, as strings \n",
        "* Get the training set by calling `fetch_20newsgroups()` and passing in the following parameters:\n",
        "    * `subset='train'`\n",
        "    * `categories=categories`\n",
        "    * `remove=('headers', 'footers', 'quotes')` -- this is so that the model can't overfit to metadata included in the articles that sometimes acts as a dead-giveaway as to what class the article belongs to  \n",
        "* Get the testing set as well by passing in the same parameters, with the exception of `subset='test` "
      ]
    },
    {
      "cell_type": "code",
      "execution_count": 2,
      "metadata": {
        "id": "NF5_cQrdvnY3"
      },
      "outputs": [],
      "source": [
        "\n",
        "# Specify the categories\n",
        "categories = [\n",
        "'alt.atheism',\n",
        "'comp.windows.x',\n",
        "'rec.sport.hockey',\n",
        "'sci.crypt',\n",
        "'talk.politics.guns'\n",
        "]\n",
        "\n",
        "# Fetch the training set\n",
        "newsgroups_train = fetch_20newsgroups(\n",
        "subset='train', categories=categories, remove=('headers', 'footers', 'quotes'))\n",
        "\n",
        "# Fetch the testing set\n",
        "newsgroups_test = fetch_20newsgroups(\n",
        "subset='test', categories=categories, remove=('headers', 'footers', 'quotes'))\n",
        "\n",
        "\n",
        "\n",
        "\n"
      ]
    },
    {
      "cell_type": "markdown",
      "metadata": {
        "id": "g8W7WQQSvnY4"
      },
      "source": [
        "Great! Let's break apart the data and the labels, and then inspect the class names to see what the actual newsgroups are.\n",
        "\n",
        "In the cell below:\n",
        "\n",
        "* Grab the data from `newsgroups_train.data` and store it in the appropriate variable  \n",
        "* Grab the labels from `newsgroups_train.target` and store it in the appropriate variable  \n",
        "* Grab the label names from `newsgroups_train.target_names` and store it in the appropriate variable  \n",
        "* Display the `label_names` so that we can see the different classes of articles that we're working with, and confirm that we grabbed the right ones  "
      ]
    },
    {
      "cell_type": "code",
      "execution_count": 3,
      "metadata": {
        "colab": {
          "base_uri": "https://localhost:8080/"
        },
        "id": "bMuWeBOLvnY5",
        "outputId": "8ffc734e-33a9-4c7b-e4d1-bdac5a3e1d39"
      },
      "outputs": [
        {
          "output_type": "stream",
          "name": "stdout",
          "text": [
            "['alt.atheism', 'comp.windows.x', 'rec.sport.hockey', 'sci.crypt', 'talk.politics.guns']\n"
          ]
        }
      ],
      "source": [
        "\n",
        "data= newsgroups_train.data\n",
        "labels_train = newsgroups_train.target\n",
        "label_names = newsgroups_train.target_names\n",
        "print(label_names)"
      ]
    },
    {
      "cell_type": "markdown",
      "metadata": {
        "id": "V-mDY0ouvnY5"
      },
      "source": [
        "Finally, let's check the shape of `data` to see what our data looks like. We can do this by checking the `.shape` attribute of `newsgroups_train.filenames`.\n",
        "\n",
        "Do this now in the cell below."
      ]
    },
    {
      "cell_type": "code",
      "execution_count": 5,
      "metadata": {
        "colab": {
          "base_uri": "https://localhost:8080/"
        },
        "id": "TU769pNFvnY5",
        "outputId": "48f431de-2c4b-4a1b-8661-daa8507f8086"
      },
      "outputs": [
        {
          "output_type": "execute_result",
          "data": {
            "text/plain": [
              "2814"
            ]
          },
          "metadata": {},
          "execution_count": 5
        }
      ],
      "source": [
        "# Your code here\n",
        "len(data)"
      ]
    },
    {
      "cell_type": "markdown",
      "metadata": {
        "id": "v8x0bcmAvnY5"
      },
      "source": [
        "Our dataset contains 2,814 different articles spread across the five classes we chose. \n",
        "\n",
        "### Cleaning and Preprocessing Our Data\n",
        "\n",
        "Now that we have our data, the fun part begins. We'll need to begin by preprocessing and cleaning our text data. As you've seen throughout this section, preprocessing text data is a bit more challenging that working with more traditional data types because there's no clear-cut answer for exactly what sort of preprocessing and cleaning we need to do. Before we can begin cleaning and preprocessing our text data, we need to make some decisions about things such as:\n",
        "\n",
        "* Do we remove stop words or not?\n",
        "* Do we stem or lemmatize our text data, or leave the words as is?\n",
        "* Is basic tokenization enough, or do we need to support special edge cases through the use of regex?\n",
        "* Do we use the entire vocabulary, or just limit the model to a subset of the most frequently used words? If so, how many?\n",
        "* Do we engineer other features, such as bigrams, or POS tags, or Mutual Information Scores?\n",
        "* What sort of vectorization should we use in our model? Boolean Vectorization? Count Vectorization? TF-IDF? More advanced vectorization strategies such as Word2Vec?\n",
        "\n",
        "\n",
        "These are all questions that we'll need to think about pretty much anytime we begin working with text data. \n",
        "\n",
        "Let's get right into it. We'll start by getting a list of all of the english stopwords, and concatenating them with a list of all the punctuation. \n",
        "\n",
        "In the cell below:\n",
        "\n",
        "* Get all the english stopwords from `nltk` \n",
        "* Get all of the punctuation from `string.punctuation`, and convert it to a list \n",
        "* Add the two lists together. Name the result `stopwords_list` \n",
        "* Create another list containing various types of empty strings and ellipses, such as `[\"''\", '\"\"', '...', '``']`. Add this to our `stopwords_list`, so that we won't have tokens that are only empty quotes and such  "
      ]
    },
    {
      "cell_type": "code",
      "execution_count": 6,
      "metadata": {
        "colab": {
          "base_uri": "https://localhost:8080/"
        },
        "id": "o_XX635dvnY6",
        "outputId": "ee7fd363-b21f-4c51-9f41-5e817da60b10"
      },
      "outputs": [
        {
          "output_type": "stream",
          "name": "stderr",
          "text": [
            "[nltk_data] Downloading package stopwords to /root/nltk_data...\n",
            "[nltk_data]   Unzipping corpora/stopwords.zip.\n"
          ]
        }
      ],
      "source": [
        "import nltk\n",
        "from string import punctuation\n",
        "\n",
        "# Get English stopwords from NLTK\n",
        "nltk.download('stopwords')\n",
        "stopwords = nltk.corpus.stopwords.words('english')\n",
        "\n",
        "# Get punctuation marks and convert to a list\n",
        "punctuation_list = list(punctuation)\n",
        "\n",
        "# Combine stopwords and punctuation lists\n",
        "stopwords_list = stopwords + punctuation_list\n",
        "\n",
        "# Add empty strings and ellipses to stopwords list\n",
        "extra_stopwords = [\"''\", '\"\"', '...', '``']\n",
        "stopwords_list += extra_stopwords\n",
        "\n"
      ]
    },
    {
      "cell_type": "markdown",
      "metadata": {
        "id": "G-goi2THvnY6"
      },
      "source": [
        "Great! We'll leave these alone for now, until we're ready to remove stop words after the tokenization step. \n",
        "\n",
        "Next, let's try tokenizing our dataset. In order to save ourselves some time, we'll write a function to clean our dataset, and then use Python's built-in `map()` function to clean every article in the dataset at the same time. \n",
        "\n",
        "In the cell below, complete the `process_article()` function. This function should:\n",
        "\n",
        "* Take in one parameter, `article` \n",
        "* Tokenize the article using the appropriate function from `nltk` \n",
        "* Lowercase every token, remove any stopwords found in `stopwords_list` from the tokenized article, and return the results "
      ]
    },
    {
      "cell_type": "code",
      "execution_count": 11,
      "metadata": {
        "colab": {
          "base_uri": "https://localhost:8080/"
        },
        "id": "gOvctarCvnY6",
        "outputId": "acf9d455-f43a-49a2-d753-744709d8a11b"
      },
      "outputs": [
        {
          "output_type": "stream",
          "name": "stderr",
          "text": [
            "[nltk_data] Downloading package punkt to /root/nltk_data...\n",
            "[nltk_data]   Unzipping tokenizers/punkt.zip.\n"
          ]
        }
      ],
      "source": [
        "nltk.download('punkt')\n",
        "\n",
        "def process_article(article):\n",
        "    # Tokenize the article using NLTK\n",
        "    tokens = nltk.word_tokenize(article)\n",
        "    \n",
        "    # Lowercase every token and remove stopwords\n",
        "    cleaned_tokens = [token.lower() for token in tokens if token.lower() not in stopwords_list]\n",
        "    \n",
        "    # Return the cleaned tokens\n",
        "    return cleaned_tokens\n"
      ]
    },
    {
      "cell_type": "markdown",
      "metadata": {
        "id": "j53ClN3hvnY7"
      },
      "source": [
        "Now that we have this function, let's go ahead and preprocess our data, and then move into exploring our dataset. \n",
        "\n",
        "In the cell below:\n",
        "\n",
        "* Use Python's `map()` function and pass in two parameters: the `process_article` function and the `data`. Make sure to wrap the whole map statement in a `list()`.\n",
        "\n",
        "**_Note:_** Running this cell may take a minute or two!"
      ]
    },
    {
      "cell_type": "code",
      "execution_count": 12,
      "metadata": {
        "id": "08YqKwgIvnY7"
      },
      "outputs": [],
      "source": [
        "processed_data = list(map(process_article, data))\n"
      ]
    },
    {
      "cell_type": "markdown",
      "metadata": {
        "id": "C6HZNkexvnY7"
      },
      "source": [
        "Great. Now, let's inspect the first article in `processed_data` to see how it looks. \n",
        "\n",
        "Do this now in the cell below."
      ]
    },
    {
      "cell_type": "code",
      "execution_count": 13,
      "metadata": {
        "colab": {
          "base_uri": "https://localhost:8080/"
        },
        "id": "XdXNPbWwvnY7",
        "outputId": "03cff46d-956a-4c2b-aab7-ba43766dae23"
      },
      "outputs": [
        {
          "output_type": "execute_result",
          "data": {
            "text/plain": [
              "['note',\n",
              " 'trial',\n",
              " 'updates',\n",
              " 'summarized',\n",
              " 'reports',\n",
              " '_idaho',\n",
              " 'statesman_',\n",
              " 'local',\n",
              " 'nbc',\n",
              " 'affiliate',\n",
              " 'television',\n",
              " 'station',\n",
              " 'ktvb',\n",
              " 'channel',\n",
              " '7',\n",
              " 'randy',\n",
              " 'weaver/kevin',\n",
              " 'harris',\n",
              " 'trial',\n",
              " 'update',\n",
              " 'day',\n",
              " '4',\n",
              " 'friday',\n",
              " 'april',\n",
              " '16',\n",
              " '1993',\n",
              " 'fourth',\n",
              " 'day',\n",
              " 'trial',\n",
              " 'synopsis',\n",
              " 'defense',\n",
              " 'attorney',\n",
              " 'gerry',\n",
              " 'spence',\n",
              " 'cross-examined',\n",
              " 'agent',\n",
              " 'cooper',\n",
              " 'repeated',\n",
              " 'objections',\n",
              " 'prosecutor',\n",
              " 'ronald',\n",
              " 'howen',\n",
              " 'spence',\n",
              " 'moved',\n",
              " 'mistrial',\n",
              " 'denied',\n",
              " 'day',\n",
              " 'marked',\n",
              " 'caustic',\n",
              " 'cross-examination',\n",
              " 'deputy',\n",
              " 'marshal',\n",
              " 'larry',\n",
              " 'cooper',\n",
              " 'defense',\n",
              " 'attorney',\n",
              " 'gerry',\n",
              " 'spence',\n",
              " 'although',\n",
              " 'spence',\n",
              " 'explicitly',\n",
              " 'stated',\n",
              " 'one',\n",
              " 'angle',\n",
              " 'stategy',\n",
              " 'must',\n",
              " 'involve',\n",
              " 'destroying',\n",
              " 'credibility',\n",
              " 'agent',\n",
              " 'cooper',\n",
              " 'cooper',\n",
              " 'government',\n",
              " \"'s\",\n",
              " 'eyewitness',\n",
              " 'death',\n",
              " 'agent',\n",
              " 'degan',\n",
              " 'spence',\n",
              " 'attacked',\n",
              " 'cooper',\n",
              " \"'s\",\n",
              " 'credibility',\n",
              " 'pointing',\n",
              " 'discrepancies',\n",
              " 'cooper',\n",
              " \"'s\",\n",
              " 'statements',\n",
              " 'last',\n",
              " 'september',\n",
              " 'made',\n",
              " 'court',\n",
              " 'cooper',\n",
              " 'conceded',\n",
              " 'things',\n",
              " 'compressed',\n",
              " 'seconds',\n",
              " \"'s\",\n",
              " 'difficult',\n",
              " 'remember',\n",
              " 'went',\n",
              " 'first',\n",
              " 'cooper',\n",
              " 'acknowledged',\n",
              " 'carried',\n",
              " '9mm',\n",
              " 'colt',\n",
              " 'commando',\n",
              " 'submachine',\n",
              " 'gun',\n",
              " 'silenced',\n",
              " 'barrel',\n",
              " 'thought',\n",
              " 'colt',\n",
              " 'commando',\n",
              " 'revolver',\n",
              " 'cooper',\n",
              " 'continued',\n",
              " 'stating',\n",
              " 'federal',\n",
              " 'agents',\n",
              " 'specific',\n",
              " 'plans',\n",
              " 'use',\n",
              " 'weapon',\n",
              " 'started',\n",
              " 'kill',\n",
              " 'weaver',\n",
              " \"'s\",\n",
              " 'dog',\n",
              " 'spence',\n",
              " 'asked',\n",
              " 'seven',\n",
              " 'cartridges',\n",
              " 'could',\n",
              " 'fired',\n",
              " \"degan's\",\n",
              " 'm-16',\n",
              " 'rifle',\n",
              " 'degan',\n",
              " 'apparently',\n",
              " 'dead',\n",
              " 'cooper',\n",
              " 'could',\n",
              " 'say',\n",
              " 'sure',\n",
              " 'degan',\n",
              " 'return',\n",
              " 'fire',\n",
              " 'going',\n",
              " 'spence',\n",
              " 'continued',\n",
              " 'asking',\n",
              " 'many',\n",
              " 'agents',\n",
              " 'extent',\n",
              " 'cooper',\n",
              " 'discussed',\n",
              " 'last',\n",
              " 'august',\n",
              " \"'s\",\n",
              " 'events',\n",
              " 'cooper',\n",
              " 'responded',\n",
              " \"'re\",\n",
              " 'implying',\n",
              " 'got',\n",
              " 'story',\n",
              " 'together',\n",
              " \"'re\",\n",
              " 'wrong',\n",
              " 'counselor',\n",
              " 'spence',\n",
              " 'continued',\n",
              " 'advance',\n",
              " 'defense',\n",
              " \"'s\",\n",
              " 'version',\n",
              " 'events',\n",
              " 'namely',\n",
              " 'marshal',\n",
              " 'started',\n",
              " 'shooting',\n",
              " 'killing',\n",
              " 'weaver',\n",
              " \"'s\",\n",
              " 'dog',\n",
              " 'cooper',\n",
              " 'disagreed',\n",
              " 'assistant',\n",
              " 'u.s.',\n",
              " 'attorney',\n",
              " 'ronald',\n",
              " 'howen',\n",
              " 'repeatedly',\n",
              " 'objected',\n",
              " \"spence's\",\n",
              " 'virulent',\n",
              " 'cross-examination',\n",
              " 'agent',\n",
              " 'cooper',\n",
              " 'arguing',\n",
              " 'questions',\n",
              " 'repetitive',\n",
              " 'spence',\n",
              " 'wasting',\n",
              " 'time',\n",
              " 'howen',\n",
              " 'also',\n",
              " 'complained',\n",
              " 'spence',\n",
              " 'improperly',\n",
              " 'using',\n",
              " 'cross-examination',\n",
              " 'advance',\n",
              " 'defense',\n",
              " \"'s\",\n",
              " 'version',\n",
              " 'events',\n",
              " 'u.s.',\n",
              " 'district',\n",
              " 'judge',\n",
              " 'edward',\n",
              " 'lodge',\n",
              " 'sustained',\n",
              " 'many',\n",
              " 'objections',\n",
              " 'however',\n",
              " 'lawyers',\n",
              " 'persisted',\n",
              " 'judge',\n",
              " 'lodge',\n",
              " 'jury',\n",
              " 'leave',\n",
              " 'room',\n",
              " 'proceded',\n",
              " 'admonish',\n",
              " 'attorneys',\n",
              " \"'m\",\n",
              " 'going',\n",
              " 'play',\n",
              " 'games',\n",
              " 'either',\n",
              " 'counsel',\n",
              " 'personality',\n",
              " 'problem',\n",
              " 'day',\n",
              " '1',\n",
              " 'start',\n",
              " 'acting',\n",
              " 'like',\n",
              " 'professionals',\n",
              " 'spence',\n",
              " 'told',\n",
              " 'judge',\n",
              " 'evidence',\n",
              " \"'ll\",\n",
              " 'see',\n",
              " 'agent',\n",
              " 'larry',\n",
              " 'cooper',\n",
              " 'testimony',\n",
              " 'credible',\n",
              " 'panicked',\n",
              " 'remember',\n",
              " 'sequence',\n",
              " 'events',\n",
              " 'spence',\n",
              " 'continued',\n",
              " \"'re\",\n",
              " 'going',\n",
              " 'find',\n",
              " 'unlikely',\n",
              " 'similarity',\n",
              " 'almost',\n",
              " 'come',\n",
              " 'cookie',\n",
              " 'cutter',\n",
              " 'testimony',\n",
              " 'mr.',\n",
              " 'cooper',\n",
              " 'witnesses',\n",
              " 'spence',\n",
              " 'moved',\n",
              " 'mistrial',\n",
              " 'grounds',\n",
              " 'howen',\n",
              " \"'s\",\n",
              " 'repeated',\n",
              " 'objections',\n",
              " 'would',\n",
              " 'prevent',\n",
              " 'fair',\n",
              " 'trial',\n",
              " 'ca',\n",
              " \"n't\",\n",
              " 'fair',\n",
              " 'trial',\n",
              " 'jury',\n",
              " 'believes',\n",
              " \"'m\",\n",
              " 'sort',\n",
              " 'charlatan',\n",
              " 'jury',\n",
              " 'believes',\n",
              " \"i'm\",\n",
              " 'bending',\n",
              " 'rules',\n",
              " 'engaging',\n",
              " 'delaying',\n",
              " 'tactic',\n",
              " \"i'm\",\n",
              " 'violating',\n",
              " 'court',\n",
              " 'orders',\n",
              " 'judge',\n",
              " 'lodge',\n",
              " 'called',\n",
              " 'notion',\n",
              " 'repeated',\n",
              " 'sustainings',\n",
              " \"howen's\",\n",
              " 'objections',\n",
              " 'somehow',\n",
              " 'prejudiced',\n",
              " 'jury',\n",
              " 'preposterous',\n",
              " 'denied',\n",
              " 'motion',\n",
              " 'mistrial',\n",
              " 'lodge',\n",
              " 'tell',\n",
              " 'howen',\n",
              " 'restrict',\n",
              " 'comments',\n",
              " 'objecting',\n",
              " 'trial',\n",
              " 'resumed',\n",
              " 'prosecution',\n",
              " 'calling',\n",
              " 'fbi',\n",
              " 'special',\n",
              " 'agent',\n",
              " 'greg',\n",
              " 'rampton',\n",
              " 'prosecution',\n",
              " \"'s\",\n",
              " 'purpose',\n",
              " 'simply',\n",
              " 'introduce',\n",
              " 'five',\n",
              " 'weapons',\n",
              " 'found',\n",
              " 'cabin',\n",
              " 'evidence',\n",
              " 'however',\n",
              " 'defense',\n",
              " 'seized',\n",
              " 'opportunity',\n",
              " 'address',\n",
              " 'cooper',\n",
              " \"'s\",\n",
              " 'credibility',\n",
              " 'defense',\n",
              " 'attorney',\n",
              " 'ellison',\n",
              " 'matthews',\n",
              " 'harris',\n",
              " 'attorney',\n",
              " 'questioned',\n",
              " 'rampton',\n",
              " 'dog',\n",
              " 'rampton',\n",
              " 'stated',\n",
              " 'specific',\n",
              " 'plans',\n",
              " 'kill',\n",
              " 'weaver',\n",
              " \"'s\",\n",
              " 'dog',\n",
              " 'without',\n",
              " 'detected',\n",
              " 'matthews',\n",
              " 'rampton',\n",
              " 'read',\n",
              " 'septtember',\n",
              " '15',\n",
              " '1992',\n",
              " 'transcript',\n",
              " 'rampton',\n",
              " 'said',\n",
              " 'cooper',\n",
              " 'said',\n",
              " 'purpose',\n",
              " 'silenced',\n",
              " 'weapon',\n",
              " 'kill',\n",
              " 'dog',\n",
              " 'without',\n",
              " 'detected',\n",
              " 'dog',\n",
              " 'chased',\n",
              " 'rampton',\n",
              " 'acknowledged',\n",
              " 'believed',\n",
              " 'cooper',\n",
              " 'said',\n",
              " 'could',\n",
              " 'remember',\n",
              " 'stated',\n",
              " 'conduct',\n",
              " 'primary',\n",
              " 'interview',\n",
              " 'deputy',\n",
              " 'cooper',\n",
              " 'conversations',\n",
              " 'since',\n",
              " 'interview',\n",
              " 'conducted']"
            ]
          },
          "metadata": {},
          "execution_count": 13
        }
      ],
      "source": [
        "processed_data[0]"
      ]
    },
    {
      "cell_type": "markdown",
      "metadata": {
        "id": "35K9gsZ9vnY7"
      },
      "source": [
        "Now, let's move onto exploring the dataset a bit more. Let's start by getting the total vocabulary size of the training dataset. We can do this by creating a `set` object and then using it's `.update()` method to iteratively add each article. Since it's a set, it will only contain unique words, with no duplicates. \n",
        "\n",
        "In the cell below:\n",
        "\n",
        "* Create a `set()` object called `total_vocab` \n",
        "* Iterate through each tokenized article in `processed_data` and add it to the set using the set's `.update()` method \n",
        "* Once all articles have been added, get the total number of unique words in our training set by taking the length of the set "
      ]
    },
    {
      "cell_type": "code",
      "execution_count": 14,
      "metadata": {
        "colab": {
          "base_uri": "https://localhost:8080/"
        },
        "id": "LZeBgH2svnY8",
        "outputId": "2faec6a8-7ec7-4696-f6f1-d1243a5db384"
      },
      "outputs": [
        {
          "output_type": "stream",
          "name": "stdout",
          "text": [
            "Total vocabulary size: 46331\n"
          ]
        }
      ],
      "source": [
        "total_vocab = None\n",
        "total_vocab = set()\n",
        "for article in processed_data:\n",
        "    total_vocab.update(article)\n",
        "\n",
        "print(\"Total vocabulary size:\", len(total_vocab))\n"
      ]
    },
    {
      "cell_type": "markdown",
      "metadata": {
        "id": "iefmd9PsvnY8"
      },
      "source": [
        "### Exploring Data With Frequency Distributions\n",
        "\n",
        "Great -- our processed dataset contains 46,990 unique words! \n",
        "\n",
        "Next, let's create a frequency distribution to see which words are used the most! \n",
        "\n",
        "In order to do this, we'll need to concatenate every article into a single list, and then pass this list to `FreqDist()`. \n",
        "\n",
        "In the cell below:\n",
        "\n",
        "* Create an empty list called `articles_concat` \n",
        "* Iterate through `processed_data` and add every article it contains to `articles_concat` \n",
        "* Pass `articles_concat` as input to `FreqDist()`  \n",
        "* Display the top 200 most used words  "
      ]
    },
    {
      "cell_type": "code",
      "execution_count": 15,
      "metadata": {
        "id": "xDCP0FmtvnY8"
      },
      "outputs": [],
      "source": [
        "articles_concat = None\n",
        "articles_concat = []\n",
        "for article in processed_data:\n",
        "    articles_concat += article"
      ]
    },
    {
      "cell_type": "code",
      "execution_count": 16,
      "metadata": {
        "id": "td6iamVxvnY9"
      },
      "outputs": [],
      "source": [
        "articles_freqdist = None\n",
        "\n",
        "articles_freqdist = FreqDist(articles_concat)\n",
        "top_words = articles_freqdist.most_common(200)"
      ]
    },
    {
      "cell_type": "markdown",
      "metadata": {
        "id": "v5WbN2h-vnY9"
      },
      "source": [
        "At first glance, none of these words seem very informative -- for most of the words represented here, it would be tough to guess if a given word is used equally among all five classes, or is disproportionately represented among a single class. This makes sense, because this frequency distribution represents all the classes combined. This tells us that these words are probably the least important, as they are most likely words that are used across multiple classes, thereby providing our model with little actual signal as to what class they belong to. This tells us that we probably want to focus on words that appear heavily in articles from a given class, but rarely appear in articles from other classes. You may recall from previous lessons that this is exactly where **_TF-IDF Vectorization_** really shines!\n",
        "\n",
        "### Vectorizing with TF-IDF\n",
        "\n",
        "Although NLTK does provide functionality for vectorizing text documents with TF-IDF, we'll make use of scikit-learn's TF-IDF vectorizer, because we already have experience with it, and because it's a bit easier to use, especially when the models we'll be feeding the vectorized data into are from scikit-learn, meaning that we don't have to worry about doing any extra processing to ensure they play nicely together. \n",
        "\n",
        "Recall that in order to use scikit-learn's `TfidfVectorizer()`, we need to pass in the data as raw text documents -- the `TfidfVectorizer()` handles the count vectorization process on it's own, and then fits and transforms the data into TF-IDF format. \n",
        "\n",
        "This means that we need to:\n",
        "\n",
        "* Import `TfidfVectorizer` from `sklearn.feature_extraction.text` and instantiate `TfidfVectorizer()` \n",
        "* Call the vectorizer object's `.fit_transform()` method and pass in our `data` as input. Store the results in `tf_idf_data_train` \n",
        "* Also create a vectorized version of our testing data, which can be found in `newsgroups_test.data`. Store the results in `tf_idf_data_test`. \n",
        "\n",
        "\n",
        "**_NOTE:_** When transforming the test data, use the `.transform()` method, not the `.fit_transform()` method, as the vectorizer has already been fit to the training data. "
      ]
    },
    {
      "cell_type": "code",
      "execution_count": null,
      "metadata": {
        "id": "T7ppKB05vnY9"
      },
      "outputs": [],
      "source": [
        "# Import TfidfVectorizer\n",
        "from sklearn.feature_extraction.text import TfidfVectorizer"
      ]
    },
    {
      "cell_type": "code",
      "execution_count": 17,
      "metadata": {
        "id": "1TX12_i_vnY9"
      },
      "outputs": [],
      "source": [
        "# Instantiate TfidfVectorizer\n",
        "vectorizer = TfidfVectorizer()"
      ]
    },
    {
      "cell_type": "code",
      "execution_count": 18,
      "metadata": {
        "id": "RpkVS-0zvnY9"
      },
      "outputs": [],
      "source": [
        "# Fit and transform training data\n",
        "tf_idf_data_train = vectorizer.fit_transform(data)"
      ]
    },
    {
      "cell_type": "code",
      "execution_count": 19,
      "metadata": {
        "id": "hkukcL1dvnY-"
      },
      "outputs": [],
      "source": [
        "# Transform testing data\n",
        "tf_idf_data_test = vectorizer.transform(newsgroups_test.data)"
      ]
    },
    {
      "cell_type": "markdown",
      "metadata": {
        "id": "AKrCIxtwvnY-"
      },
      "source": [
        "### Modeling Our Data\n",
        "\n",
        "Great! We've now preprocessed and explored our dataset, let's take a second to see what our data looks like in vectorized form. \n",
        "\n",
        "In the cell below, get the shape of `tf_idf_data`."
      ]
    },
    {
      "cell_type": "code",
      "execution_count": 21,
      "metadata": {
        "colab": {
          "base_uri": "https://localhost:8080/"
        },
        "id": "fVTQKCeHvnY-",
        "outputId": "eae23230-7d1c-4f94-e050-0587f5ed299a"
      },
      "outputs": [
        {
          "output_type": "stream",
          "name": "stdout",
          "text": [
            "(2814, 36622)\n"
          ]
        }
      ],
      "source": [
        "# Your code here\n",
        "print(tf_idf_data_train.shape)"
      ]
    },
    {
      "cell_type": "markdown",
      "metadata": {
        "id": "oDntCaCbvnY_"
      },
      "source": [
        "Our vectorized data contains 2,814 articles, with 36,622 unique words in the vocabulary. However, the vast majority of these columns for any given article will be zero, since every article only contains a small subset of the total vocabulary. Recall that vectors mostly filled with zeros are referred to as **_Sparse Vectors_**. These are extremely common when working with text data. \n",
        "\n",
        "Let's check out the average number of non-zero columns in the vectors. Run the cell below to calculate this average. "
      ]
    },
    {
      "cell_type": "code",
      "execution_count": 22,
      "metadata": {
        "colab": {
          "base_uri": "https://localhost:8080/"
        },
        "id": "iPLnq3NyvnY_",
        "outputId": "76df9e94-24fb-47c7-915a-fa5a30cdc751"
      },
      "outputs": [
        {
          "output_type": "stream",
          "name": "stdout",
          "text": [
            "Average Number of Non-Zero Elements in Vectorized Articles: 107.28038379530916\n",
            "Percentage of columns containing 0: 0.9970706028126451\n"
          ]
        }
      ],
      "source": [
        "non_zero_cols = tf_idf_data_train.nnz / float(tf_idf_data_train.shape[0])\n",
        "print(\"Average Number of Non-Zero Elements in Vectorized Articles: {}\".format(non_zero_cols))\n",
        "\n",
        "percent_sparse = 1 - (non_zero_cols / float(tf_idf_data_train.shape[1]))\n",
        "print('Percentage of columns containing 0: {}'.format(percent_sparse))"
      ]
    },
    {
      "cell_type": "markdown",
      "metadata": {
        "id": "Zzz_CaWBvnY_"
      },
      "source": [
        "As we can see from the output above, the average vectorized article contains 107 non-zero columns. This means that 99.7% of each vector is actually zeroes! This is one reason why it's best not to create your own vectorizers, and rely on professional packages such as scikit-learn and NLTK instead -- they contain many speed and memory optimizations specifically for dealing with sparse vectors. This way, we aren't wasting a giant chunk of memory on a vectorized dataset that only has valid information in 0.3% of it. \n",
        "\n",
        "Now that we've vectorized our dataset, let's create some models and fit them to our vectorized training data. \n",
        "\n",
        "In the cell below:\n",
        "\n",
        "* Instantiate `MultinomialNB()` and `RandomForestClassifier()`. For random forest, set `n_estimators` to `100`. Don't worry about tweaking any of the other parameters  \n",
        "* Fit each to our vectorized training data \n",
        "* Create predictions for our training and test sets\n",
        "* Calculate the `accuracy_score()` for both the training and test sets (you'll find our training labels stored within the variable `target`, and the test labels stored within `newsgroups_test.target`) "
      ]
    },
    {
      "cell_type": "code",
      "execution_count": 23,
      "metadata": {
        "colab": {
          "base_uri": "https://localhost:8080/",
          "height": 74
        },
        "id": "cqCTpsvkvnY_",
        "outputId": "06e4fe6d-b707-4938-f1b1-6b32f4e4d9dd"
      },
      "outputs": [
        {
          "output_type": "execute_result",
          "data": {
            "text/plain": [
              "RandomForestClassifier()"
            ],
            "text/html": [
              "<style>#sk-container-id-1 {color: black;background-color: white;}#sk-container-id-1 pre{padding: 0;}#sk-container-id-1 div.sk-toggleable {background-color: white;}#sk-container-id-1 label.sk-toggleable__label {cursor: pointer;display: block;width: 100%;margin-bottom: 0;padding: 0.3em;box-sizing: border-box;text-align: center;}#sk-container-id-1 label.sk-toggleable__label-arrow:before {content: \"▸\";float: left;margin-right: 0.25em;color: #696969;}#sk-container-id-1 label.sk-toggleable__label-arrow:hover:before {color: black;}#sk-container-id-1 div.sk-estimator:hover label.sk-toggleable__label-arrow:before {color: black;}#sk-container-id-1 div.sk-toggleable__content {max-height: 0;max-width: 0;overflow: hidden;text-align: left;background-color: #f0f8ff;}#sk-container-id-1 div.sk-toggleable__content pre {margin: 0.2em;color: black;border-radius: 0.25em;background-color: #f0f8ff;}#sk-container-id-1 input.sk-toggleable__control:checked~div.sk-toggleable__content {max-height: 200px;max-width: 100%;overflow: auto;}#sk-container-id-1 input.sk-toggleable__control:checked~label.sk-toggleable__label-arrow:before {content: \"▾\";}#sk-container-id-1 div.sk-estimator input.sk-toggleable__control:checked~label.sk-toggleable__label {background-color: #d4ebff;}#sk-container-id-1 div.sk-label input.sk-toggleable__control:checked~label.sk-toggleable__label {background-color: #d4ebff;}#sk-container-id-1 input.sk-hidden--visually {border: 0;clip: rect(1px 1px 1px 1px);clip: rect(1px, 1px, 1px, 1px);height: 1px;margin: -1px;overflow: hidden;padding: 0;position: absolute;width: 1px;}#sk-container-id-1 div.sk-estimator {font-family: monospace;background-color: #f0f8ff;border: 1px dotted black;border-radius: 0.25em;box-sizing: border-box;margin-bottom: 0.5em;}#sk-container-id-1 div.sk-estimator:hover {background-color: #d4ebff;}#sk-container-id-1 div.sk-parallel-item::after {content: \"\";width: 100%;border-bottom: 1px solid gray;flex-grow: 1;}#sk-container-id-1 div.sk-label:hover label.sk-toggleable__label {background-color: #d4ebff;}#sk-container-id-1 div.sk-serial::before {content: \"\";position: absolute;border-left: 1px solid gray;box-sizing: border-box;top: 0;bottom: 0;left: 50%;z-index: 0;}#sk-container-id-1 div.sk-serial {display: flex;flex-direction: column;align-items: center;background-color: white;padding-right: 0.2em;padding-left: 0.2em;position: relative;}#sk-container-id-1 div.sk-item {position: relative;z-index: 1;}#sk-container-id-1 div.sk-parallel {display: flex;align-items: stretch;justify-content: center;background-color: white;position: relative;}#sk-container-id-1 div.sk-item::before, #sk-container-id-1 div.sk-parallel-item::before {content: \"\";position: absolute;border-left: 1px solid gray;box-sizing: border-box;top: 0;bottom: 0;left: 50%;z-index: -1;}#sk-container-id-1 div.sk-parallel-item {display: flex;flex-direction: column;z-index: 1;position: relative;background-color: white;}#sk-container-id-1 div.sk-parallel-item:first-child::after {align-self: flex-end;width: 50%;}#sk-container-id-1 div.sk-parallel-item:last-child::after {align-self: flex-start;width: 50%;}#sk-container-id-1 div.sk-parallel-item:only-child::after {width: 0;}#sk-container-id-1 div.sk-dashed-wrapped {border: 1px dashed gray;margin: 0 0.4em 0.5em 0.4em;box-sizing: border-box;padding-bottom: 0.4em;background-color: white;}#sk-container-id-1 div.sk-label label {font-family: monospace;font-weight: bold;display: inline-block;line-height: 1.2em;}#sk-container-id-1 div.sk-label-container {text-align: center;}#sk-container-id-1 div.sk-container {/* jupyter's `normalize.less` sets `[hidden] { display: none; }` but bootstrap.min.css set `[hidden] { display: none !important; }` so we also need the `!important` here to be able to override the default hidden behavior on the sphinx rendered scikit-learn.org. See: https://github.com/scikit-learn/scikit-learn/issues/21755 */display: inline-block !important;position: relative;}#sk-container-id-1 div.sk-text-repr-fallback {display: none;}</style><div id=\"sk-container-id-1\" class=\"sk-top-container\"><div class=\"sk-text-repr-fallback\"><pre>RandomForestClassifier()</pre><b>In a Jupyter environment, please rerun this cell to show the HTML representation or trust the notebook. <br />On GitHub, the HTML representation is unable to render, please try loading this page with nbviewer.org.</b></div><div class=\"sk-container\" hidden><div class=\"sk-item\"><div class=\"sk-estimator sk-toggleable\"><input class=\"sk-toggleable__control sk-hidden--visually\" id=\"sk-estimator-id-1\" type=\"checkbox\" checked><label for=\"sk-estimator-id-1\" class=\"sk-toggleable__label sk-toggleable__label-arrow\">RandomForestClassifier</label><div class=\"sk-toggleable__content\"><pre>RandomForestClassifier()</pre></div></div></div></div></div>"
            ]
          },
          "metadata": {},
          "execution_count": 23
        }
      ],
      "source": [
        "nb_classifier = MultinomialNB()\n",
        "# fit the model to the training data\n",
        "nb_classifier.fit(tf_idf_data_train, newsgroups_train.target)\n",
        "\n",
        "rf_classifier = RandomForestClassifier(n_estimators=100)\n",
        "# fit the model to the training data\n",
        "rf_classifier.fit(tf_idf_data_train, newsgroups_train.target)"
      ]
    },
    {
      "cell_type": "code",
      "execution_count": 24,
      "metadata": {
        "id": "GGoLYi3xvnY_"
      },
      "outputs": [],
      "source": [
        "nb_train_preds = nb_classifier.predict(tf_idf_data_train)\n",
        "nb_test_preds = rf_classifier.predict(tf_idf_data_test)"
      ]
    },
    {
      "cell_type": "code",
      "execution_count": 25,
      "metadata": {
        "id": "7wi01H58vnZA"
      },
      "outputs": [],
      "source": [
        "rf_train_preds = rf_classifier.predict(tf_idf_data_train)\n",
        "rf_test_preds = rf_classifier.predict(tf_idf_data_train)"
      ]
    },
    {
      "cell_type": "code",
      "execution_count": 31,
      "metadata": {
        "colab": {
          "base_uri": "https://localhost:8080/"
        },
        "id": "lB_TxDFfvnZA",
        "outputId": "ac3dc5bc-8ced-440c-d41f-eaf1207e6538"
      },
      "outputs": [
        {
          "output_type": "stream",
          "name": "stdout",
          "text": [
            "Multinomial Naive Bayes\n",
            "Training Accuracy: 0.9531 \t\t Testing Accuracy: 0.7896\n",
            "\n",
            "----------------------------------------------------------------------\n",
            "\n",
            "Random Forest\n",
            "Training Accuracy: 0.9851 \t\t Testing Accuracy: 0.9851\n"
          ]
        }
      ],
      "source": [
        "nb_train_score = accuracy_score(newsgroups_train.target, nb_train_preds)\n",
        "nb_test_score = accuracy_score(newsgroups_test.target, nb_test_preds)\n",
        "rf_train_score = accuracy_score(newsgroups_train.target, rf_train_preds)\n",
        "rf_test_score = accuracy_score(newsgroups_train.target, rf_test_preds)\n",
        "\n",
        "print(\"Multinomial Naive Bayes\")\n",
        "print(\"Training Accuracy: {:.4} \\t\\t Testing Accuracy: {:.4}\".format(nb_train_score, nb_test_score))\n",
        "print(\"\")\n",
        "print('-'*70)\n",
        "print(\"\")\n",
        "print('Random Forest')\n",
        "print(\"Training Accuracy: {:.4} \\t\\t Testing Accuracy: {:.4}\".format(rf_train_score, rf_test_score))"
      ]
    },
    {
      "cell_type": "markdown",
      "metadata": {
        "id": "FfD50oE1vnZA"
      },
      "source": [
        "### Interpreting Results\n",
        "\n",
        "**_Question:_** Interpret the results seen above. How well did the models do? How do they compare to random guessing? How would you describe the quality of the model fit?\n",
        "\n",
        "Write your answer below:"
      ]
    },
    {
      "cell_type": "code",
      "execution_count": 32,
      "metadata": {
        "colab": {
          "base_uri": "https://localhost:8080/",
          "height": 35
        },
        "id": "3DJZiwKWvnZA",
        "outputId": "e1fc35de-30e0-41f5-983a-b859a2a58435"
      },
      "outputs": [
        {
          "output_type": "execute_result",
          "data": {
            "text/plain": [
              "'Ramdom forest scored better'"
            ],
            "application/vnd.google.colaboratory.intrinsic+json": {
              "type": "string"
            }
          },
          "metadata": {},
          "execution_count": 32
        }
      ],
      "source": [
        "# Your answer here\"\n",
        "\"Ramdom forest scored better\""
      ]
    },
    {
      "cell_type": "markdown",
      "metadata": {
        "id": "D-DvoOi9vnZA"
      },
      "source": [
        "# Summary\n",
        "\n",
        "In this lab, we used our NLP skills to clean, preprocess, explore, and fit models to text data for classification. This wasn't easy -- great job!!"
      ]
    }
  ],
  "metadata": {
    "kernelspec": {
      "display_name": "Python 3 (ipykernel)",
      "language": "python",
      "name": "python3"
    },
    "language_info": {
      "codemirror_mode": {
        "name": "ipython",
        "version": 3
      },
      "file_extension": ".py",
      "mimetype": "text/x-python",
      "name": "python",
      "nbconvert_exporter": "python",
      "pygments_lexer": "ipython3",
      "version": "3.9.12"
    },
    "toc": {
      "base_numbering": 1,
      "nav_menu": {},
      "number_sections": true,
      "sideBar": true,
      "skip_h1_title": false,
      "title_cell": "Table of Contents",
      "title_sidebar": "Contents",
      "toc_cell": false,
      "toc_position": {},
      "toc_section_display": true,
      "toc_window_display": false
    },
    "vscode": {
      "interpreter": {
        "hash": "2f155fbeb9494e5ce992090b8427abe3542dae7719d8ea0d05cb0b78608edd18"
      }
    },
    "colab": {
      "provenance": []
    }
  },
  "nbformat": 4,
  "nbformat_minor": 0
}